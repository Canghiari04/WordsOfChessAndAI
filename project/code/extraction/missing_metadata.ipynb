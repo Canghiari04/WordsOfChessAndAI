{
 "cells": [
  {
   "cell_type": "markdown",
   "metadata": {},
   "source": [
    "__Obiettivo__\n",
    "\n",
    "Ricavare i metadati mancanti mediante l'impiego di ulteriori _REST API_.\n",
    "\n",
    "Il notebook ricalca gli stessi obiettivi delineati in __metadata.ipynb__ e __grobid.ipynb__. Tuttavia, in questo caso, l'intento consiste nel completamento dei metadati mancanti, mediante l'impiego di ulteriori infrastrutture digitali dedite alla memorizzazione degli articoli scientifici posti in ambito accademido"
   ]
  },
  {
   "cell_type": "code",
   "execution_count": 4,
   "metadata": {},
   "outputs": [],
   "source": [
    "base_url = \"https://api.zotero.org\""
   ]
  },
  {
   "cell_type": "code",
   "execution_count": 5,
   "metadata": {},
   "outputs": [],
   "source": [
    "import json\n",
    "\n",
    "from typing import List, Dict\n",
    "\n",
    "def get_json():\n",
    "    with open(\"../../json/extraction/metadata_completed.json\", \"r\") as file:\n",
    "        content = file.read()\n",
    "\n",
    "    return json.loads(content)\n",
    "\n",
    "def define_missing_metadata_dict(_json: List[Dict[str, Dict]]) -> Dict[str, Dict]:\n",
    "    dict_missing_metadata: Dict[str, Dict]  = {}\n",
    "\n",
    "    for _dict in _json:\n",
    "        for key, value in _dict.items():\n",
    "            if value.get(\"DOI\") is None:\n",
    "                dict_missing_metadata[key] = value\n",
    "    \n",
    "    return dict_missing_metadata\n",
    "\n",
    "_json = get_json()\n",
    "dict_missing_metadata = define_missing_metadata_dict(_json)"
   ]
  },
  {
   "cell_type": "code",
   "execution_count": 6,
   "metadata": {},
   "outputs": [],
   "source": [
    "from difflib import SequenceMatcher\n",
    "\n",
    "def similar(title_retrieved: str, title_found: str) -> float:\n",
    "    return SequenceMatcher(None, title_retrieved, title_found).ratio()"
   ]
  },
  {
   "cell_type": "code",
   "execution_count": 14,
   "metadata": {},
   "outputs": [],
   "source": [
    "import os\n",
    "\n",
    "from pyzotero import zotero\n",
    "from dotenv import load_dotenv\n",
    "\n",
    "load_dotenv()\n",
    "\n",
    "zotero_client = zotero.Zotero(library_id=os.getenv(\"ZOTERO_USER_ID\"), library_type=\"user\", api_key=os.getenv(\"ZOTERO_KEY\"))"
   ]
  },
  {
   "cell_type": "code",
   "execution_count": 12,
   "metadata": {},
   "outputs": [
    {
     "name": "stdout",
     "output_type": "stream",
     "text": [
      "http://arxiv.org/pdf/math/0011253v1\n"
     ]
    }
   ],
   "source": [
    "import arxiv \n",
    "\n",
    "arxiv_client = arxiv.Client()\n",
    "\n",
    "_dict = {key: value for key, value in dict_missing_metadata.items() if value[\"Title\"] is not None and len(value[\"Author\"]) > 0}\n",
    "\n",
    "for key, value in _dict.items():\n",
    "    _title = value[\"Title\"]\n",
    "    _author = \" \".join(value[\"Author\"])\n",
    "\n",
    "    search = arxiv.Search(query=f\"au:{_author} AND ti:{_title}\")\n",
    "\n",
    "    for result in arxiv_client.results(search):\n",
    "            try:\n",
    "                if similar(result.title, _title) > 0.7:  \n",
    "                    print(result.pdf_url) \n",
    "            except Exception:\n",
    "                continue"
   ]
  },
  {
   "cell_type": "markdown",
   "metadata": {},
   "source": [
    "__PyAlex__ rappresenta un _wrapper_ della _REST API_ offerta da __OpenAlex__. _OpenAlex_ è un catalogo globale contenente un vastissimo bacino di articoli e paper scientifici."
   ]
  },
  {
   "cell_type": "code",
   "execution_count": null,
   "metadata": {},
   "outputs": [],
   "source": [
    "import pyalex\n",
    "\n",
    "def split_url(url: str) -> str:\n",
    "    tokens = url.split(\"/\")\n",
    "    return tokens[-2] + \"/\" + tokens[-1]\n",
    "\n",
    "for key, value in dict_missing_metadata.items():\n",
    "    try:\n",
    "        _title = value.get(\"Title\")\n",
    "\n",
    "        works = pyalex.Works().search_filter(title=value.get(\"Title\")).get()\n",
    "\n",
    "        for work in works:\n",
    "            if work[\"doi\"] is not None and similar(work[\"title\"], _title) > 0.7:\n",
    "\n",
    "                # Key \"doi\" in the response contains the paper's DOI as URL\n",
    "                dict_missing_metadata[key][\"DOI\"] = split_url(work[\"doi\"])\n",
    "                break\n",
    "    except Exception as e:\n",
    "        continue"
   ]
  },
  {
   "cell_type": "code",
   "execution_count": 13,
   "metadata": {},
   "outputs": [],
   "source": [
    "dict_retrieved_metadata = {key: value for key, value in dict_missing_metadata.items() if value[\"DOI\"] is not None}\n",
    "\n",
    "for key, value in dict_retrieved_metadata.items():\n",
    "    print(key, value)"
   ]
  }
 ],
 "metadata": {
  "kernelspec": {
   "display_name": "venv",
   "language": "python",
   "name": "python3"
  },
  "language_info": {
   "codemirror_mode": {
    "name": "ipython",
    "version": 3
   },
   "file_extension": ".py",
   "mimetype": "text/x-python",
   "name": "python",
   "nbconvert_exporter": "python",
   "pygments_lexer": "ipython3",
   "version": "3.12.3"
  }
 },
 "nbformat": 4,
 "nbformat_minor": 2
}
