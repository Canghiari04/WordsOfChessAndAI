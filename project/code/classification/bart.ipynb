{
 "cells": [
  {
   "cell_type": "markdown",
   "metadata": {},
   "source": [
    "__Obiettivo__\n",
    "\n",
    "Classificare i contenuti estrapolati dai vari paper secondo una lista predefinita di topics."
   ]
  },
  {
   "cell_type": "code",
   "execution_count": 6,
   "metadata": {},
   "outputs": [],
   "source": [
    "import pandas\n",
    "\n",
    "df_cleaned_preprocessed = pandas.read_json(\"../../json/dataset/dataset_preprocessed.json\")\n",
    "\n",
    "dois = list(df_cleaned_preprocessed.DOI)\n",
    "docs = list(df_cleaned_preprocessed.Abstract)"
   ]
  },
  {
   "cell_type": "markdown",
   "metadata": {},
   "source": [
    "_bart-large-mnli_ è un modello pre-addestrato realizzato per la classificazione secondo la tecnica Zero-Shot. Forniti in input una stringa e la lista di topics, il modello restituisce la probabilità di ciascuna etichetta rispetto al testo dato in input.\n",
    "\n",
    "Di seguito sono riportate le prove effettuate, i dati sono stati acquisiti da _df\\_preprocessed\\_cleaned_:\n",
    "- _Abstract_\n",
    "- _Text_\n",
    "\n",
    "Nota: i migliori score ottenuti sono stati raggiunti dall'impiego dei dati pre-processati e dalla lista di sub-topics ricavata dal .markdown"
   ]
  },
  {
   "cell_type": "code",
   "execution_count": 7,
   "metadata": {},
   "outputs": [
    {
     "name": "stderr",
     "output_type": "stream",
     "text": [
      "Device set to use cpu\n"
     ]
    }
   ],
   "source": [
    "from transformers import pipeline\n",
    "\n",
    "_model = pipeline(\"zero-shot-classification\", model=\"facebook/bart-large-mnli\")"
   ]
  },
  {
   "cell_type": "code",
   "execution_count": 8,
   "metadata": {},
   "outputs": [],
   "source": [
    "import json\n",
    "\n",
    "with open(\"../../json/topics/topics.json\", \"r\") as file:\n",
    "    topics = json.load(file)\n",
    "\n",
    "list_main_topics = [key for key in topics.keys()]\n",
    "list_subtopics = sum([item for item in topics.values()], [])"
   ]
  },
  {
   "cell_type": "markdown",
   "metadata": {},
   "source": [
    "Tips:\n",
    "- Provare a classificare secondo le categorie espresse per le quattro ere {Program, Hardware, Algorithms, Machine Learning}, nel caso Program sia troppo generico sostituire con Chess playing"
   ]
  },
  {
   "cell_type": "code",
   "execution_count": 9,
   "metadata": {},
   "outputs": [],
   "source": [
    "from typing import Dict\n",
    "\n",
    "dict_scores: Dict[str, Dict] = {}\n",
    "for i in range(0, len(dois) - 1):\n",
    "    if len(docs[i]) > 0:\n",
    "        dict_classification = _model(docs[i], list_main_topics)\n",
    "        dict_scores[dois[i]] = dict_classification"
   ]
  },
  {
   "cell_type": "code",
   "execution_count": 10,
   "metadata": {},
   "outputs": [],
   "source": [
    "with open(\"../../json/classification/classification_bart_main_topics.json\", \"w\") as file:\n",
    "    json.dump(dict_scores, file, indent=3)"
   ]
  },
  {
   "cell_type": "code",
   "execution_count": null,
   "metadata": {},
   "outputs": [],
   "source": [
    "dict_scores: Dict[str, Dict] = {}\n",
    "for i in range(0, len(dois) - 1):\n",
    "    if len(docs[i]) > 0:\n",
    "        dict_classification = _model(docs[i], list_subtopics)\n",
    "        dict_scores[dois[i]] = dict_classification"
   ]
  },
  {
   "cell_type": "code",
   "execution_count": null,
   "metadata": {},
   "outputs": [],
   "source": [
    "with open(\"../../json/classification/classification_bart_subtopics.json\", \"w\") as file:\n",
    "    json.dump(dict_scores, file, indent=3)"
   ]
  }
 ],
 "metadata": {
  "kernelspec": {
   "display_name": "venv",
   "language": "python",
   "name": "python3"
  },
  "language_info": {
   "codemirror_mode": {
    "name": "ipython",
    "version": 3
   },
   "file_extension": ".py",
   "mimetype": "text/x-python",
   "name": "python",
   "nbconvert_exporter": "python",
   "pygments_lexer": "ipython3",
   "version": "3.12.3"
  }
 },
 "nbformat": 4,
 "nbformat_minor": 2
}
