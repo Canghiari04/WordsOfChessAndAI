{
 "cells": [
  {
   "cell_type": "markdown",
   "metadata": {},
   "source": [
    "__Obiettivo__ \n",
    "\n",
    "Classificare i contenuti estrapolati secondo una lista predefinita di topics.\n",
    "\n",
    "Il vero scopo del notebook consiste nell'analisi della validità dei risultati ottenuti tramite il modello di classificazione BERTopic; a questo scopo sono acquisiti tramite l'API di arXiv alcuni articoli accademici inerenti al _Quantum Computing_, in modo tale che, uniti ad alcuni paper del dominio fino ad ora trattato, possa essere valutata la bontà del modello di classificazione."
   ]
  },
  {
   "cell_type": "code",
   "execution_count": 2,
   "metadata": {},
   "outputs": [],
   "source": [
    "import pandas\n",
    "\n",
    "from nltk.corpus import stopwords\n",
    "\n",
    "set_stopwords = set(stopwords.words(\"english\"))"
   ]
  },
  {
   "cell_type": "code",
   "execution_count": 3,
   "metadata": {},
   "outputs": [],
   "source": [
    "class Paper():\n",
    "    def __init__(self, DOI: str, title: str, abstract: str):\n",
    "        self.DOI = DOI\n",
    "        self.title = title\n",
    "        self.abstract = abstract\n",
    "\n",
    "    def __str__(self):\n",
    "        return str(self.DOI) + \" \" + str(self.title)"
   ]
  },
  {
   "cell_type": "code",
   "execution_count": 4,
   "metadata": {},
   "outputs": [],
   "source": [
    "new_df = pandas.DataFrame(columns=[\"DOI\", \"Title\", \"Abstract\"])"
   ]
  },
  {
   "cell_type": "code",
   "execution_count": 5,
   "metadata": {},
   "outputs": [],
   "source": [
    "df_preprocessed = pandas.read_json(\"../../json/dataset/dataset_preprocessed.json\")"
   ]
  },
  {
   "cell_type": "code",
   "execution_count": 6,
   "metadata": {},
   "outputs": [
    {
     "data": {
      "text/html": [
       "<div>\n",
       "<style scoped>\n",
       "    .dataframe tbody tr th:only-of-type {\n",
       "        vertical-align: middle;\n",
       "    }\n",
       "\n",
       "    .dataframe tbody tr th {\n",
       "        vertical-align: top;\n",
       "    }\n",
       "\n",
       "    .dataframe thead th {\n",
       "        text-align: right;\n",
       "    }\n",
       "</style>\n",
       "<table border=\"1\" class=\"dataframe\">\n",
       "  <thead>\n",
       "    <tr style=\"text-align: right;\">\n",
       "      <th></th>\n",
       "      <th>DOI</th>\n",
       "      <th>Title</th>\n",
       "      <th>Keywords</th>\n",
       "      <th>Abstract</th>\n",
       "      <th>Introduction</th>\n",
       "      <th>Text</th>\n",
       "    </tr>\n",
       "  </thead>\n",
       "  <tbody>\n",
       "    <tr>\n",
       "      <th>2</th>\n",
       "      <td>10.1007/3-540-44595-1_3</td>\n",
       "      <td>intelligent tutor web based chess course</td>\n",
       "      <td>[textbooks, chess, teachers, tutor, tutoring]</td>\n",
       "      <td>web based intelligent tutoring system try fill...</td>\n",
       "      <td>course common way organize teaching high level...</td>\n",
       "      <td>web based intelligent tutoring system try fill...</td>\n",
       "    </tr>\n",
       "    <tr>\n",
       "      <th>5</th>\n",
       "      <td>10.3233/icg-1998-21203</td>\n",
       "      <td>learning play chess using temporal difference</td>\n",
       "      <td>[td, knightcap, algorithm, internet, chess]</td>\n",
       "      <td>paper present tdleaf variation algorithm enabl...</td>\n",
       "      <td>temporal difference learning first introduced ...</td>\n",
       "      <td>paper present tdleaf variation algorithm enabl...</td>\n",
       "    </tr>\n",
       "    <tr>\n",
       "      <th>7</th>\n",
       "      <td>10.1016/s0020-0255(99)00093-6</td>\n",
       "      <td>temporal dierence learning heuristic search ga...</td>\n",
       "      <td>[backgammon, championship, algorithmic, td, ch...</td>\n",
       "      <td>temporal dierence learning natural method rein...</td>\n",
       "      <td>central heuristic search whether single agent ...</td>\n",
       "      <td>temporal dierence learning natural method rein...</td>\n",
       "    </tr>\n",
       "    <tr>\n",
       "      <th>8</th>\n",
       "      <td>10.1006/ijhc.1999.0338</td>\n",
       "      <td>incremental acquisition search knowledge</td>\n",
       "      <td>[hampered, intractable, expert, intelligence, ...</td>\n",
       "      <td>expert system nition address particular domain...</td>\n",
       "      <td>early day arti cial intelligence strong emphas...</td>\n",
       "      <td>expert system nition address particular domain...</td>\n",
       "    </tr>\n",
       "    <tr>\n",
       "      <th>9</th>\n",
       "      <td>10.1016/s0020-0255(99)00097-3</td>\n",
       "      <td></td>\n",
       "      <td>[century, strategy, search, algorithm, algorit...</td>\n",
       "      <td>half century since minimax rst suggested strat...</td>\n",
       "      <td>standard approach game tree search use improve...</td>\n",
       "      <td>half century since minimax rst suggested strat...</td>\n",
       "    </tr>\n",
       "  </tbody>\n",
       "</table>\n",
       "</div>"
      ],
      "text/plain": [
       "                             DOI  \\\n",
       "2        10.1007/3-540-44595-1_3   \n",
       "5         10.3233/icg-1998-21203   \n",
       "7  10.1016/s0020-0255(99)00093-6   \n",
       "8         10.1006/ijhc.1999.0338   \n",
       "9  10.1016/s0020-0255(99)00097-3   \n",
       "\n",
       "                                               Title  \\\n",
       "2           intelligent tutor web based chess course   \n",
       "5      learning play chess using temporal difference   \n",
       "7  temporal dierence learning heuristic search ga...   \n",
       "8           incremental acquisition search knowledge   \n",
       "9                                                      \n",
       "\n",
       "                                            Keywords  \\\n",
       "2      [textbooks, chess, teachers, tutor, tutoring]   \n",
       "5        [td, knightcap, algorithm, internet, chess]   \n",
       "7  [backgammon, championship, algorithmic, td, ch...   \n",
       "8  [hampered, intractable, expert, intelligence, ...   \n",
       "9  [century, strategy, search, algorithm, algorit...   \n",
       "\n",
       "                                            Abstract  \\\n",
       "2  web based intelligent tutoring system try fill...   \n",
       "5  paper present tdleaf variation algorithm enabl...   \n",
       "7  temporal dierence learning natural method rein...   \n",
       "8  expert system nition address particular domain...   \n",
       "9  half century since minimax rst suggested strat...   \n",
       "\n",
       "                                        Introduction  \\\n",
       "2  course common way organize teaching high level...   \n",
       "5  temporal difference learning first introduced ...   \n",
       "7  central heuristic search whether single agent ...   \n",
       "8  early day arti cial intelligence strong emphas...   \n",
       "9  standard approach game tree search use improve...   \n",
       "\n",
       "                                                Text  \n",
       "2  web based intelligent tutoring system try fill...  \n",
       "5  paper present tdleaf variation algorithm enabl...  \n",
       "7  temporal dierence learning natural method rein...  \n",
       "8  expert system nition address particular domain...  \n",
       "9  half century since minimax rst suggested strat...  "
      ]
     },
     "execution_count": 6,
     "metadata": {},
     "output_type": "execute_result"
    }
   ],
   "source": [
    "df_preprocessed.head()"
   ]
  },
  {
   "cell_type": "code",
   "execution_count": 7,
   "metadata": {},
   "outputs": [],
   "source": [
    "import random\n",
    "from typing import List\n",
    "\n",
    "def get_random_chess_papers() -> List[object]:\n",
    "    _list: List[object] = []\n",
    "    \n",
    "    indexes = list(df_preprocessed.index)\n",
    "    for _ in range(0, 40):\n",
    "        index = random.choice(indexes)\n",
    "        _list.append(df_preprocessed.loc[index])\n",
    "\n",
    "        indexes.remove(index)\n",
    "\n",
    "    return _list\n",
    "\n",
    "list_papers_selected = get_random_chess_papers()\n",
    "\n",
    "list_rows = []\n",
    "for paper in list_papers_selected:\n",
    "    list_rows.append({\"DOI\": paper[\"DOI\"], \"Title\": paper[\"Title\"], \"Abstract\": paper[\"Abstract\"]})"
   ]
  },
  {
   "cell_type": "code",
   "execution_count": 8,
   "metadata": {},
   "outputs": [
    {
     "data": {
      "text/plain": [
       "(40, 3)"
      ]
     },
     "execution_count": 8,
     "metadata": {},
     "output_type": "execute_result"
    }
   ],
   "source": [
    "new_df = pandas.concat([new_df, pandas.DataFrame(list_rows)])\n",
    "new_df.shape"
   ]
  },
  {
   "cell_type": "code",
   "execution_count": 10,
   "metadata": {},
   "outputs": [],
   "source": [
    "import json\n",
    "import arxiv\n",
    "\n",
    "from typing import Dict\n",
    "\n",
    "def get_arxiv_quantum_papers() -> Dict[str, Paper]:\n",
    "    arxiv_client = arxiv.Client()\n",
    "\n",
    "    search = arxiv.Search(query=\"quantum\", max_results=40)  \n",
    "    results = arxiv_client.results(search)\n",
    "\n",
    "    _dict: Dict[str, Paper] = {}\n",
    "    for result in results:\n",
    "        result.download_pdf(\"../../articles/articlesBertTest\")\n",
    "\n",
    "        paper = Paper(result.doi, result.title, result.summary)\n",
    "        _dict[result.get_short_id()] = paper\n",
    "        \n",
    "    return _dict\n",
    "\n",
    "dict_papers_selected = get_arxiv_quantum_papers()\n",
    "\n",
    "list_rows = []\n",
    "for key, value in dict_papers_selected.items():\n",
    "    list_rows.append({\"DOI\": key, \"Title\": value.title, \"Abstract\": value.abstract})"
   ]
  },
  {
   "cell_type": "code",
   "execution_count": 11,
   "metadata": {},
   "outputs": [
    {
     "data": {
      "text/plain": [
       "(80, 3)"
      ]
     },
     "execution_count": 11,
     "metadata": {},
     "output_type": "execute_result"
    }
   ],
   "source": [
    "new_df = pandas.concat([new_df, pandas.DataFrame(list_rows)], ignore_index=True)\n",
    "new_df.shape"
   ]
  },
  {
   "cell_type": "code",
   "execution_count": 12,
   "metadata": {},
   "outputs": [],
   "source": [
    "new_df.dropna()\n",
    "\n",
    "with open(\"../../json/dataset/dataset_bart_test.json\", \"w\") as file:\n",
    "    json.dump(new_df.to_dict(), file, indent=3)"
   ]
  },
  {
   "cell_type": "code",
   "execution_count": 13,
   "metadata": {},
   "outputs": [
    {
     "data": {
      "text/html": [
       "<div>\n",
       "<style scoped>\n",
       "    .dataframe tbody tr th:only-of-type {\n",
       "        vertical-align: middle;\n",
       "    }\n",
       "\n",
       "    .dataframe tbody tr th {\n",
       "        vertical-align: top;\n",
       "    }\n",
       "\n",
       "    .dataframe thead th {\n",
       "        text-align: right;\n",
       "    }\n",
       "</style>\n",
       "<table border=\"1\" class=\"dataframe\">\n",
       "  <thead>\n",
       "    <tr style=\"text-align: right;\">\n",
       "      <th></th>\n",
       "      <th>DOI</th>\n",
       "      <th>Title</th>\n",
       "      <th>Abstract</th>\n",
       "    </tr>\n",
       "  </thead>\n",
       "  <tbody>\n",
       "    <tr>\n",
       "      <th>0</th>\n",
       "      <td>10.1016/j.tcs.2005.09.049</td>\n",
       "      <td>admissibility opponent model search</td>\n",
       "      <td>opponent model search come two type risk first...</td>\n",
       "    </tr>\n",
       "    <tr>\n",
       "      <th>1</th>\n",
       "      <td>10.2307/30039042</td>\n",
       "      <td>psychometric analysis chess expertise psychome...</td>\n",
       "      <td>study introduces amsterdam chess test act act ...</td>\n",
       "    </tr>\n",
       "    <tr>\n",
       "      <th>2</th>\n",
       "      <td>10.1007/11922155_1</td>\n",
       "      <td></td>\n",
       "      <td>best chess program reached top level player hu...</td>\n",
       "    </tr>\n",
       "    <tr>\n",
       "      <th>3</th>\n",
       "      <td>10.24963/ijcai.2024/480</td>\n",
       "      <td>monte carlo continual resolving online strateg...</td>\n",
       "      <td>online game playing algorithm produce high qua...</td>\n",
       "    </tr>\n",
       "    <tr>\n",
       "      <th>4</th>\n",
       "      <td>10.1007/bf02454222</td>\n",
       "      <td>role memory concept learning</td>\n",
       "      <td>extent concept memory planning necessary simul...</td>\n",
       "    </tr>\n",
       "  </tbody>\n",
       "</table>\n",
       "</div>"
      ],
      "text/plain": [
       "                         DOI  \\\n",
       "0  10.1016/j.tcs.2005.09.049   \n",
       "1           10.2307/30039042   \n",
       "2         10.1007/11922155_1   \n",
       "3    10.24963/ijcai.2024/480   \n",
       "4         10.1007/bf02454222   \n",
       "\n",
       "                                               Title  \\\n",
       "0                admissibility opponent model search   \n",
       "1  psychometric analysis chess expertise psychome...   \n",
       "2                                                      \n",
       "3  monte carlo continual resolving online strateg...   \n",
       "4                       role memory concept learning   \n",
       "\n",
       "                                            Abstract  \n",
       "0  opponent model search come two type risk first...  \n",
       "1  study introduces amsterdam chess test act act ...  \n",
       "2  best chess program reached top level player hu...  \n",
       "3  online game playing algorithm produce high qua...  \n",
       "4  extent concept memory planning necessary simul...  "
      ]
     },
     "execution_count": 13,
     "metadata": {},
     "output_type": "execute_result"
    }
   ],
   "source": [
    "new_df.head()"
   ]
  },
  {
   "cell_type": "code",
   "execution_count": 14,
   "metadata": {},
   "outputs": [],
   "source": [
    "from nltk.stem import WordNetLemmatizer\n",
    "from nltk.tokenize import RegexpTokenizer\n",
    "\n",
    "lemmatizer = WordNetLemmatizer()\n",
    "tokenizer = RegexpTokenizer(r\"[a-zA-Z]+\")\n",
    "\n",
    "def preprocess_list(list_texts: list[str]) -> List[str]:\n",
    "    try:\n",
    "        _list: List[str] = [] \n",
    "        for item in list_texts:\n",
    "            text = item.lower()\n",
    "            tokens = tokenizer.tokenize(text)\n",
    "\n",
    "            tokens = [token for token in tokens if len(token) > 2]\n",
    "            tokens = [token for token in tokens if token not in set_stopwords]\n",
    "\n",
    "            tokens_lemmatized = [lemmatizer.lemmatize(token) for token in tokens]\n",
    "            \n",
    "            _list.append(\" \".join(tokens_lemmatized) )\n",
    "\n",
    "        return _list\n",
    "    except Exception:\n",
    "        return [\" \"]"
   ]
  },
  {
   "cell_type": "code",
   "execution_count": 15,
   "metadata": {},
   "outputs": [
    {
     "name": "stderr",
     "output_type": "stream",
     "text": [
      "/home/matte/Owner/WordsOfChessAndAI/venv/lib/python3.12/site-packages/tqdm/auto.py:21: TqdmWarning: IProgress not found. Please update jupyter and ipywidgets. See https://ipywidgets.readthedocs.io/en/stable/user_install.html\n",
      "  from .autonotebook import tqdm as notebook_tqdm\n"
     ]
    }
   ],
   "source": [
    "from sentence_transformers import SentenceTransformer\n",
    "\n",
    "docs = preprocess_list(list(new_df.Abstract))\n",
    "\n",
    "embedding_model = SentenceTransformer(\"all-MiniLM-L6-v2\")\n",
    "embeddings = embedding_model.encode(docs)"
   ]
  },
  {
   "cell_type": "code",
   "execution_count": 16,
   "metadata": {},
   "outputs": [],
   "source": [
    "from bertopic import BERTopic\n",
    "\n",
    "model = BERTopic(\n",
    "    zeroshot_topic_list=[\"Computer Chess\", \"Quantum\"],\n",
    "    zeroshot_min_similarity=.6,\n",
    ")\n",
    "\n",
    "_topics, _ = model.fit_transform(docs, embeddings)"
   ]
  },
  {
   "cell_type": "code",
   "execution_count": 17,
   "metadata": {},
   "outputs": [
    {
     "data": {
      "text/html": [
       "<div>\n",
       "<style scoped>\n",
       "    .dataframe tbody tr th:only-of-type {\n",
       "        vertical-align: middle;\n",
       "    }\n",
       "\n",
       "    .dataframe tbody tr th {\n",
       "        vertical-align: top;\n",
       "    }\n",
       "\n",
       "    .dataframe thead th {\n",
       "        text-align: right;\n",
       "    }\n",
       "</style>\n",
       "<table border=\"1\" class=\"dataframe\">\n",
       "  <thead>\n",
       "    <tr style=\"text-align: right;\">\n",
       "      <th></th>\n",
       "      <th>Topic</th>\n",
       "      <th>Count</th>\n",
       "      <th>Name</th>\n",
       "      <th>Representation</th>\n",
       "      <th>Representative_Docs</th>\n",
       "    </tr>\n",
       "  </thead>\n",
       "  <tbody>\n",
       "    <tr>\n",
       "      <th>0</th>\n",
       "      <td>0</td>\n",
       "      <td>40</td>\n",
       "      <td>0_chess_game_search_move</td>\n",
       "      <td>[chess, game, search, move, paper, test, best,...</td>\n",
       "      <td>[opening book important component chess engine...</td>\n",
       "    </tr>\n",
       "    <tr>\n",
       "      <th>1</th>\n",
       "      <td>1</td>\n",
       "      <td>40</td>\n",
       "      <td>1_quantum_system_computing_information</td>\n",
       "      <td>[quantum, system, computing, information, comp...</td>\n",
       "      <td>[quantum computation quantum information great...</td>\n",
       "    </tr>\n",
       "  </tbody>\n",
       "</table>\n",
       "</div>"
      ],
      "text/plain": [
       "   Topic  Count                                    Name  \\\n",
       "0      0     40                0_chess_game_search_move   \n",
       "1      1     40  1_quantum_system_computing_information   \n",
       "\n",
       "                                      Representation  \\\n",
       "0  [chess, game, search, move, paper, test, best,...   \n",
       "1  [quantum, system, computing, information, comp...   \n",
       "\n",
       "                                 Representative_Docs  \n",
       "0  [opening book important component chess engine...  \n",
       "1  [quantum computation quantum information great...  "
      ]
     },
     "execution_count": 17,
     "metadata": {},
     "output_type": "execute_result"
    }
   ],
   "source": [
    "# Check if the paper are real divided by category\n",
    "\n",
    "model.get_topic_info()"
   ]
  }
 ],
 "metadata": {
  "kernelspec": {
   "display_name": "venv",
   "language": "python",
   "name": "python3"
  },
  "language_info": {
   "codemirror_mode": {
    "name": "ipython",
    "version": 3
   },
   "file_extension": ".py",
   "mimetype": "text/x-python",
   "name": "python",
   "nbconvert_exporter": "python",
   "pygments_lexer": "ipython3",
   "version": "3.12.3"
  }
 },
 "nbformat": 4,
 "nbformat_minor": 2
}
