{
 "cells": [
  {
   "cell_type": "markdown",
   "metadata": {},
   "source": [
    "#### __Obiettivo__\n",
    "\n",
    "Manipolare i risultati ottenuti dai modelli di classificazione affinché possa ottenere informazioni facilmente osservabili."
   ]
  },
  {
   "cell_type": "code",
   "execution_count": 11,
   "metadata": {},
   "outputs": [],
   "source": [
    "import json\n",
    "import pandas"
   ]
  },
  {
   "cell_type": "code",
   "execution_count": 12,
   "metadata": {},
   "outputs": [],
   "source": [
    "# TO-DO generalizzare il metodo per lettura dei file\n",
    "from typing import Dict\n",
    "\n",
    "def read_json_file(src_file: str) -> Dict:\n",
    "    with open(f\"{src_file}\", \"r\") as file:\n",
    "        return json.load(file)\n",
    "\n",
    "topics = read_json_file(\"../json/topics/topics.json\")\n",
    "\n",
    "main_topics = [key for key in topics.keys()]\n",
    "subtopics = sum([value for value in topics.values()], [])"
   ]
  },
  {
   "cell_type": "code",
   "execution_count": 13,
   "metadata": {},
   "outputs": [],
   "source": [
    "df_bart_main_topics = pandas.DataFrame(columns=[\"DOI\"] + main_topics)\n",
    "df_bart_subtopics = pandas.DataFrame(columns=[\"DOI\"] + subtopics)"
   ]
  },
  {
   "cell_type": "code",
   "execution_count": 14,
   "metadata": {},
   "outputs": [],
   "source": [
    "def merge_bart_scores(bart_scores: dict, df: pandas.DataFrame) -> pandas:\n",
    "    for key, value in bart_scores.items():\n",
    "            labels = value[\"labels\"]\n",
    "            scores = value[\"scores\"]\n",
    "\n",
    "            _dict = {}\n",
    "            for i in range(len(labels)):\n",
    "                _dict[labels[i]] = 1 if scores[i] > .5 else 0\n",
    "\n",
    "            row = pandas.DataFrame({\"DOI\": key, **{key: [value] for key, value in _dict.items()}})\n",
    "            df = pandas.concat([df, row], ignore_index=True)\n",
    "\n",
    "    return df"
   ]
  },
  {
   "cell_type": "code",
   "execution_count": 15,
   "metadata": {},
   "outputs": [],
   "source": [
    "bart_scores_main_topics = read_json_file(\"../json/classification/classification_bart_main_topics.json\")\n",
    "merge_bart_scores(bart_scores_main_topics, df_bart_main_topics).to_csv(\"../csv/classification_bart_main_topics.csv\")"
   ]
  },
  {
   "cell_type": "code",
   "execution_count": 20,
   "metadata": {},
   "outputs": [],
   "source": [
    "bart_scores_subtopics = read_json_file(\"../json/classification/classification_bart_subtopics.json\")\n",
    "merge_bart_scores(bart_scores_subtopics, df_bart_subtopics).to_csv(\"../csv/classification_bart_subtopics.csv\")"
   ]
  }
 ],
 "metadata": {
  "kernelspec": {
   "display_name": "venv",
   "language": "python",
   "name": "python3"
  },
  "language_info": {
   "codemirror_mode": {
    "name": "ipython",
    "version": 3
   },
   "file_extension": ".py",
   "mimetype": "text/x-python",
   "name": "python",
   "nbconvert_exporter": "python",
   "pygments_lexer": "ipython3",
   "version": "3.12.3"
  }
 },
 "nbformat": 4,
 "nbformat_minor": 2
}
